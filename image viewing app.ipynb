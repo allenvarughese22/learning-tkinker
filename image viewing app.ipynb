{
 "cells": [
  {
   "cell_type": "code",
   "execution_count": 2,
   "metadata": {},
   "outputs": [],
   "source": [
    "from tkinter import *\n",
    "from PIL import ImageTk,Image\n",
    "\n",
    "root= Tk()\n",
    "\n",
    "root.title(\"Image viewing app\")\n",
    "#root.iconbitmap('C:/Users/Allen Varughese/Desktop/learning tkinder/image_app/0.ico')\n",
    "root.iconbitmap('C:\\\\Users\\\\Allen Varughese\\\\Desktop\\\\learning tkinder\\\\image_app\\\\0.ico')\n",
    "\n",
    "my_img1= ImageTk.PhotoImage(Image.open('C:\\\\Users\\\\Allen Varughese\\\\Desktop\\\\learning tkinder\\\\image_app\\\\1.jpg'))\n",
    "my_img2= ImageTk.PhotoImage(Image.open('C:\\\\Users\\\\Allen Varughese\\\\Desktop\\\\learning tkinder\\\\image_app\\\\2.jpg'))\n",
    "my_img3= ImageTk.PhotoImage(Image.open('C:\\\\Users\\\\Allen Varughese\\\\Desktop\\\\learning tkinder\\\\image_app\\\\3.jpg'))\n",
    "my_img4= ImageTk.PhotoImage(Image.open('C:\\\\Users\\\\Allen Varughese\\\\Desktop\\\\learning tkinder\\\\image_app\\\\4.jpg'))\n",
    "\n",
    "image_list = [my_img1,my_img2,my_img3,my_img4]\n",
    "\n",
    "def forward():\n",
    "    return\n",
    "\n",
    "def backward():\n",
    "    return\n",
    "\n",
    "myLabel = Label(image = my_img1)\n",
    "myLabel.grid(row=0, column=0, columnspan=3)\n",
    "\n",
    "button_back = Button(root, text=\"<<\", command=forward)\n",
    "button_exit = Button(root, text=\"Exit\", command = root.destroy)\n",
    "button_forward = Button(root, text=\">>\")\n",
    "\n",
    "button_back.grid(row=1, column=0)\n",
    "button_exit.grid(row=1, column=1)\n",
    "button_forward.grid(row=1, column=2)\n",
    "\n",
    "\n",
    "root.mainloop()\n"
   ]
  },
  {
   "cell_type": "code",
   "execution_count": null,
   "metadata": {},
   "outputs": [],
   "source": []
  },
  {
   "cell_type": "code",
   "execution_count": null,
   "metadata": {},
   "outputs": [],
   "source": []
  }
 ],
 "metadata": {
  "kernelspec": {
   "display_name": "Python 3",
   "language": "python",
   "name": "python3"
  },
  "language_info": {
   "codemirror_mode": {
    "name": "ipython",
    "version": 3
   },
   "file_extension": ".py",
   "mimetype": "text/x-python",
   "name": "python",
   "nbconvert_exporter": "python",
   "pygments_lexer": "ipython3",
   "version": "3.7.1"
  }
 },
 "nbformat": 4,
 "nbformat_minor": 2
}
