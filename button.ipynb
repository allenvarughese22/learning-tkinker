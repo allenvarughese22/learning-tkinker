{
 "cells": [
  {
   "cell_type": "code",
   "execution_count": 4,
   "metadata": {},
   "outputs": [],
   "source": [
    "from tkinter import *\n",
    "root = Tk()\n",
    "myButton1 = Button(root, text = \"Click me\")\n",
    "myButton1.pack()\n",
    "\n",
    "myButton2 = Button(root, text = \"Click me\", state =DISABLED)\n",
    "myButton2.pack()\n",
    "root.mainloop()"
   ]
  },
  {
   "cell_type": "code",
   "execution_count": 8,
   "metadata": {},
   "outputs": [],
   "source": [
    "from tkinter import *\n",
    "root = Tk()\n",
    "\n",
    "def myClick():\n",
    "    myLabel= Label(root, text=\"I clicked the button\")\n",
    "    myLabel.pack()\n",
    "    \n",
    "myButton = Button(root, text =\"Click on this button\", command =myClick, fg=\"blue\", bg=\"red\")\n",
    "myButton.pack()\n",
    "\n",
    "\n",
    "root.mainloop()"
   ]
  },
  {
   "cell_type": "code",
   "execution_count": null,
   "metadata": {},
   "outputs": [],
   "source": []
  }
 ],
 "metadata": {
  "kernelspec": {
   "display_name": "Python 3",
   "language": "python",
   "name": "python3"
  },
  "language_info": {
   "codemirror_mode": {
    "name": "ipython",
    "version": 3
   },
   "file_extension": ".py",
   "mimetype": "text/x-python",
   "name": "python",
   "nbconvert_exporter": "python",
   "pygments_lexer": "ipython3",
   "version": "3.7.1"
  }
 },
 "nbformat": 4,
 "nbformat_minor": 2
}
